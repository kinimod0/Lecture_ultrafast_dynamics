{
 "cells": [
  {
   "cell_type": "markdown",
   "metadata": {},
   "source": [
    "### Erzeugung hoher Harmonischer\n",
    "In diesem Notebook zeige ich euch eine Implementation eines künstlichen eindimensionalen Atoms in einem elektrischen Feld mit der Berechnung von hohen Harmonischen.\n",
    "Der zu simulierende Hamiltonian hat die Form $$\\hat{H} = \\frac{1}{2}\\hat{p}^2 + \\hat{V}(\\hat{x}) + E_0 \\hat{x} f(t) \\cos(\\omega t).$$ Dabei ist f(t) die Puls-Einhüllende und meist in einer $\\sin^2$-Form gewählt.\n",
    "Wir starten damit alle Module zu importieren, die wir benötigen werden. Da wir hier auch Matrixexponentiale bestimmen wollen, werden wir die \"sparse\"-Module von Scipy benötigen und natürlich mit Tabellen und vektorisierten Funktionen in Numpy umgehen. Für die Darstellung verwenden wir Standard-Matplotlib-Funktionen. Der Start der Propagation wird auf $t=0$ gesetzt.\n",
    "\n",
    "Die Randbedingungen sind $\\psi(x_{\\text{min}})=0$ und $\\psi(x_{\\text{max}})=0$ (Dirichlet). Dabei werden die äußeren Punkte ausserhalb der Region fortgesetzt. Die Anwendung des Matrixexponentials auf einen Vektor wird von einer spärlichen Matrix vorgenommen. Es ist aber auch möglich, direkt einen linearen Operator in Scipy zu definieren und diesen zu verwenden."
   ]
  },
  {
   "cell_type": "code",
   "execution_count": 1,
   "metadata": {},
   "outputs": [],
   "source": [
    "#%matplotlib notebook\n",
    "%matplotlib widget\n",
    "import numpy as np\n",
    "import scipy.sparse as ssp\n",
    "import scipy.sparse.linalg as ssla\n",
    "import matplotlib.pyplot as plt\n",
    "\n",
    "from classes_and_functions import vpotential, venvelope, Hamiltonian"
   ]
  },
  {
   "cell_type": "markdown",
   "metadata": {},
   "source": [
    "Als Nächstes wird festgelegt, wie groß unser System ist, indem wir $x_{\\text{min}}$ und $x_{\\text{max}}$ festlegen. Dann wird mit neigs die Anzahl der zu berechnenden Zustände fixiert.\n",
    "Das Simulationsgebiet kann unterschiedlich zerteilt werden, zum einen können wir ein uniformes Grid mit linspace verwenden oder ein nicht uniformes mit z. B. einer Funktion angeben.\n",
    "Zur Bestätigung der Startbedingung wird die einhüllende Zeitfunktion, die Potentialfunktion und die ersten 4 Eigenzustände dargestellt. Ausserdem werden die Eigenenergien angegeben.\n",
    "Dabei ist zu beachten, dass das innere Produkt die Jacobi-Determinante des Gitters mitträgt. Der Hamiltonian ist in der Matrixdarstellung nicht hermitesch und erzeugt daher keine orthonormalen Eigenvektoren (unter dem Standard-Inneren-Produkt). Daher müssen diese neu normiert werden (siehe overlap). Die entstehende Matrix ist damit diagonal."
   ]
  },
  {
   "cell_type": "code",
   "execution_count": 2,
   "metadata": {},
   "outputs": [
    {
     "data": {
      "application/vnd.jupyter.widget-view+json": {
       "model_id": "1013e35770a44aed8f113da100118cf2",
       "version_major": 2,
       "version_minor": 0
      },
      "text/plain": [
       "FigureCanvasNbAgg()"
      ]
     },
     "metadata": {},
     "output_type": "display_data"
    },
    {
     "name": "stdout",
     "output_type": "stream",
     "text": [
      "First few eigenvalues of the system: [-0.99034233 -0.25229997 -0.12995086 -0.07133203 -0.04854739 -0.03297041\n",
      " -0.02516289 -0.01890898]\n"
     ]
    },
    {
     "data": {
      "application/vnd.jupyter.widget-view+json": {
       "model_id": "65fbdf07481e4f3da2af5da6c2b5bed3",
       "version_major": 2,
       "version_minor": 0
      },
      "text/plain": [
       "FigureCanvasNbAgg()"
      ]
     },
     "metadata": {},
     "output_type": "display_data"
    },
    {
     "data": {
      "application/vnd.jupyter.widget-view+json": {
       "model_id": "3c5fe6ec9f5d4b45a494b187c167c99a",
       "version_major": 2,
       "version_minor": 0
      },
      "text/plain": [
       "FigureCanvasNbAgg()"
      ]
     },
     "metadata": {},
     "output_type": "display_data"
    }
   ],
   "source": [
    "neigs =    8 # number of eigenstates\n",
    "xmin  = -160 # left end of the x intervall\n",
    "xmax  =  160 # right end of the x intervall\n",
    "nx    =  401 # number of x points\n",
    "\n",
    "# different grid definitons for xmin to xmax\n",
    "# random grid:\n",
    "#xs = np.cumsum(np.random.rand(nx))\n",
    "#xs = (xs - xs[0]) / (xs[-1] - xs[0]) * (xmax - xmin) + xmin\n",
    "# linear grid:\n",
    "#xs = np.linspace(xmin, xmax, nx)\n",
    "# square grid:\n",
    "ymax = np.sqrt(xmax)\n",
    "ymin = -np.sqrt(abs(xmin))\n",
    "ys = np.linspace(ymin, ymax, nx)\n",
    "xs = np.sign(ys) * ys**2\n",
    "\n",
    "# plot of the pulse envelope\n",
    "ts = np.linspace(-5, 10, 101)\n",
    "plt.figure()\n",
    "plt.plot(ts, venvelope(ts, 5))\n",
    "plt.title(\"Envelope function\")\n",
    "plt.xlabel(\"$t \\,$[arb.u.]\")\n",
    "plt.ylabel(\"$f(t)\\,[1]$\")\n",
    "plt.show()\n",
    "\n",
    "\n",
    "# Building the Hamiltonian\n",
    "ham = Hamiltonian(xs, order = 4)\n",
    "# Solving the eigensystem\n",
    "evals, evecs = ssla.eigs(ham.H_0, neigs, which = \"SR\", maxiter = 1e6)\n",
    "evals = evals.real\n",
    "print(\"First few eigenvalues of the system:\", evals.real)\n",
    "\n",
    "# plot of the potential over position\n",
    "plt.figure()\n",
    "plt.plot(xs, vpotential(xs))\n",
    "plt.title(\"Potential function\")\n",
    "plt.xlim(-5,5)\n",
    "plt.xlabel(\"$x \\,$[arb.u.]\")\n",
    "plt.ylabel(\"$V(x) \\,$[arb.u.]\")\n",
    "plt.show()\n",
    "\n",
    "# plot of the probability density over position\n",
    "plt.figure()\n",
    "for i in range(4):\n",
    "    plt.plot(xs, np.abs(evecs[:, i])**2)\n",
    "plt.title(\"Probability density\")\n",
    "plt.xlim(-40,40)\n",
    "plt.xlabel(\"$x \\,$[arb.u.]\")\n",
    "plt.ylabel(\"$|\\psi|^2 \\,$[arb.u.]\")\n",
    "plt.show()\n",
    "\n",
    "# calculation of the overlap of the eigenstates in the new inner product\n",
    "overlap = np.empty((neigs, neigs), dtype = np.float64)\n",
    "for i in range(neigs):\n",
    "    for j in range(neigs):\n",
    "        overlap[i, j] = evecs[:, i].conj().dot(ham.jac * evecs[:, j]).real\n",
    "    evecs[:, i] = evecs[:, i] / np.sqrt(overlap[i, i])"
   ]
  },
  {
   "cell_type": "markdown",
   "metadata": {},
   "source": [
    "Nun müssen wir noch die Parameter des Pulses festlegen und dem Hamiltonian übergeben. Wir wollen 10 optische Zyklen, eine Kopplungsstärke von 0.2 und eine Kreisfrequenz von 0.4. Das Ende des Pulses ist dann durch diese Parameter eindeutig festgelegt."
   ]
  },
  {
   "cell_type": "code",
   "execution_count": 3,
   "metadata": {},
   "outputs": [],
   "source": [
    "Nopt = 10 # number of optical cycles\n",
    "omega = 0.4 # central angular frequency of the pulse\n",
    "Tend = Nopt * 2 * np.pi / omega # end time of the pulse\n",
    "E_0 = 0.2 # electric field strength\n",
    "\n",
    "ham.set_pulse_length(Tend) # set the pulse length\n",
    "ham.minimal_coupling_phi(E_0, omega) # coupling the field to the Hamiltonian"
   ]
  },
  {
   "cell_type": "markdown",
   "metadata": {},
   "source": [
    "Nun kommen wir zur Zeitpropagation. In den Funktionen CFM4 (Commutator free magnus 4th order), CN (Crank Nicholson) und exp_midpt (exponential midpoint) sind hier 3 Methoden angegeben. Der Startvektor ist der Grundzustand und das Zeitintervall [0, Tend] wird in nt Teile zerlegt. Hier wird keine Schrittweitenanpassung verwendet. In fidelity wird der Überlapp mit dem Grundzustand und in psi_t der Zustand zu jedem Speicherzeitschritt gelagert. Es ist nicht immer notwendig, dass jeder genommene vom Propagator genommene Zeitschritt genommen wird. Daher gibt es die Option die Anzahl der Speicherzeiten zu verringern. Hierbei sollte (nt - 1) / (nt_save - 1) eine ganze Zahl sein. Es kann mit den unterschiedlichen Propagatoren herumprobiert werden. Vorsicht ist bei den Matrixexponentialmethoden geboten, wenn die Norm der Matrix groß wird (z.B. bei nicht uniformen Grids)."
   ]
  },
  {
   "cell_type": "code",
   "execution_count": 4,
   "metadata": {},
   "outputs": [],
   "source": [
    "psi0 = evecs[:, 0] # ground state\n",
    "sqr36 = np.sqrt(3.0) / 6.0 # parameter for CFM4\n",
    "\n",
    "def CFM4(t, dt, psi):\n",
    "    \"\"\"\n",
    "    Implementation of the commutator free Magnus method of 4th order\n",
    "    Input:\n",
    "        time (float, double): t\n",
    "        time step (float, double): dt\n",
    "        state at time t (numpy array): psi\n",
    "    Output:\n",
    "        state at time t + dt (numpy array)\n",
    "    \"\"\"\n",
    "    c1t = t + (0.5 - sqr36) * dt\n",
    "    c2t = t + (0.5 + sqr36) * dt\n",
    "    alpha1 = 0.25 - sqr36\n",
    "    alpha2 = 0.25 + sqr36\n",
    "    H1 = ham.build_at_time(c1t)\n",
    "    H2 = ham.build_at_time(c2t)\n",
    "    exp1 = -1j * (alpha1 * H1 + alpha2 * H2) * dt\n",
    "    exp2 = -1j * (alpha2 * H1 + alpha1 * H2) * dt\n",
    "    return ssla.expm_multiply(exp1, ssla.expm_multiply(exp2, psi))\n",
    "\n",
    "def exp_midpt(t, dt, psi):\n",
    "    \"\"\"\n",
    "    Implementation of the exponential midpoint rule\n",
    "    Input:\n",
    "        time (float, double): t\n",
    "        time step (float, double): dt\n",
    "        state at time t (numpy array): psi\n",
    "    Output:\n",
    "        state at time t + dt (numpy array)\n",
    "    \"\"\"\n",
    "    c1t = t + 0.5 * dt\n",
    "    H1 = ham.build_at_time(c1t)\n",
    "    exp = -1j * H1 * dt\n",
    "    return ssla.expm_multiply(exp, psi)\n",
    "\n",
    "unit = ssp.eye(nx) # unit matrix for the Crank Nicholson method\n",
    "def CN(t, dt, psi):\n",
    "    \"\"\"\n",
    "    Implementation of the Crank Nicholson algorithm\n",
    "    Input:\n",
    "        time (float, double): t\n",
    "        time step (float, double): dt\n",
    "        state at time t (numpy array): psi\n",
    "    Output:\n",
    "        state at time t + dt (numpy array)\n",
    "    \"\"\"\n",
    "    c1t = t + 0.5 * dt\n",
    "    H1 = ham.build_at_time(c1t)\n",
    "    rhs = psi - 0.5j * dt * H1.dot(psi)\n",
    "    lhs = unit + 0.5j * dt * H1\n",
    "    return ssla.spsolve(lhs, rhs)\n",
    "\n",
    "nt = 6401 # number of time steps\n",
    "nt_save = 3201 # number of time steps where the observables get evaluated\n",
    "ndt_save = int((nt - 1) / (nt_save - 1))\n",
    "ts = np.linspace(0, Tend, nt)\n",
    "ts_plot = np.linspace(0, ts[-1], nt_save)\n",
    "dt = ts[1] - ts[0] # time step of the equidistant time space\n",
    "psi = psi0.copy()\n",
    "\n",
    "psi_t = np.empty((nt_save, nx), dtype = np.complex128)\n",
    "fidelity = np.empty((nt_save,), dtype = np.float64)\n",
    "\n",
    "fidelity[0] = np.abs(psi.conj().dot(ham.jac * psi0))\n",
    "psi_t[0]    = psi.copy()\n",
    "i_t_ctr = 0\n",
    "for i_t, t in enumerate(ts[:-1]):\n",
    "    psi = CN(t, dt, psi)\n",
    "    #psi = CFM4(t, dt, psi)\n",
    "    #psi = exp_midpt(t, dt, psi)\n",
    "    if i_t % ndt_save == 0:\n",
    "        i_t_ctr += 1\n",
    "        fidelity[i_t_ctr] = np.abs(psi.conj().dot(ham.jac * psi0))\n",
    "        psi_t[i_t_ctr] = psi.copy()\n"
   ]
  },
  {
   "cell_type": "markdown",
   "metadata": {},
   "source": [
    "Jetzt können die Ergebnisse dargestellt werden. Dafür wird die Fidelity über der Zeit dargestellt und der Zustand als Animation im Ort. Es wird nur ein Ausschnitt des Simulationsgebiets angeschaut, da der Effekt dann besser zu erkennen ist."
   ]
  },
  {
   "cell_type": "code",
   "execution_count": 5,
   "metadata": {},
   "outputs": [
    {
     "data": {
      "application/vnd.jupyter.widget-view+json": {
       "model_id": "6922af2a4b394c85823b82e54bc10a82",
       "version_major": 2,
       "version_minor": 0
      },
      "text/plain": [
       "FigureCanvasNbAgg()"
      ]
     },
     "metadata": {},
     "output_type": "display_data"
    },
    {
     "data": {
      "application/vnd.jupyter.widget-view+json": {
       "model_id": "f9c7ae729bb64b71bc56605b859c5677",
       "version_major": 2,
       "version_minor": 0
      },
      "text/plain": [
       "FigureCanvasNbAgg()"
      ]
     },
     "metadata": {},
     "output_type": "display_data"
    }
   ],
   "source": [
    "plt.figure(figsize = (4,2))\n",
    "plt.plot(ts_plot, fidelity)\n",
    "plt.title(\"Fidelity\")\n",
    "plt.xlabel(\"time$\\,$[arb.u.]\")\n",
    "plt.ylabel(\"fidelity$\\,$[1]\")\n",
    "plt.grid()\n",
    "plt.show()\n",
    "\n",
    "import matplotlib.animation as animation\n",
    "fig, ax = plt.subplots()\n",
    "\n",
    "line, = ax.plot(xs, np.abs(psi_t[0])**2)\n",
    "plt.xlim(-30, 30)\n",
    "plt.xlabel(\"x$\\,$[arb.u.]\")\n",
    "plt.ylabel(\"probability density$\\,$[1]\")\n",
    "plt.grid()\n",
    "\n",
    "def init():\n",
    "    line.set_ydata([np.nan] * len(xs))\n",
    "    return line,\n",
    "\n",
    "def animate(i):\n",
    "    line.set_ydata(np.abs(psi_t[i])**2)  # update the data.\n",
    "    return line,\n",
    "\n",
    "ani = animation.FuncAnimation(\n",
    "    fig, animate, init_func=init, interval=2, blit=True)#, save_count=50)\n",
    "\n",
    "plt.show()"
   ]
  },
  {
   "cell_type": "markdown",
   "metadata": {},
   "source": [
    "Es ist immer gut, die Besetzungen der Eigenzustände in der Zeit zu betrachten, da es Auskunft über die nichtlinearen Prozesse liefert."
   ]
  },
  {
   "cell_type": "code",
   "execution_count": 6,
   "metadata": {},
   "outputs": [
    {
     "data": {
      "application/vnd.jupyter.widget-view+json": {
       "model_id": "bb018bff52c044949f6dfaac0b35ef35",
       "version_major": 2,
       "version_minor": 0
      },
      "text/plain": [
       "FigureCanvasNbAgg()"
      ]
     },
     "metadata": {},
     "output_type": "display_data"
    }
   ],
   "source": [
    "n_i = np.empty((nt_save, neigs))\n",
    "for i in range(neigs):\n",
    "    n_i[:, i] = np.abs(psi_t.dot(ham.jac * evecs[:,i]))**2\n",
    "\n",
    "plt.figure()\n",
    "plt.plot(ts_plot, n_i)\n",
    "plt.xlabel(\"time$\\,$[arb.$\\,$u.]\")\n",
    "plt.ylabel(\"occupation$\\,$[1]\")\n",
    "plt.grid()\n",
    "plt.show()"
   ]
  },
  {
   "cell_type": "markdown",
   "metadata": {},
   "source": [
    "Für die Berechnung der hohen Harmonischen benötigen wir noch das Dipolmoment und dessen zweite Ableitung in der Zeit. Davon muss dann noch die Fourier Transformierte gebildet und dargestellt werden."
   ]
  },
  {
   "cell_type": "code",
   "execution_count": 7,
   "metadata": {},
   "outputs": [
    {
     "data": {
      "application/vnd.jupyter.widget-view+json": {
       "model_id": "a902950fe5044845a679d22c2a5a960c",
       "version_major": 2,
       "version_minor": 0
      },
      "text/plain": [
       "FigureCanvasNbAgg()"
      ]
     },
     "metadata": {},
     "output_type": "display_data"
    },
    {
     "data": {
      "application/vnd.jupyter.widget-view+json": {
       "model_id": "707c5cf5ac13441295f4957249521503",
       "version_major": 2,
       "version_minor": 0
      },
      "text/plain": [
       "FigureCanvasNbAgg()"
      ]
     },
     "metadata": {},
     "output_type": "display_data"
    }
   ],
   "source": [
    "# calculation of the dipole moment\n",
    "dip_x = np.empty((nt_save,), dtype = np.float64)\n",
    "for i_t in range(nt_save):\n",
    "    dip_x[i_t] = psi_t[i_t].conj().dot(ham.jac * xs * psi_t[i_t]).real\n",
    "\n",
    "# plot of the dipole moment over time\n",
    "plt.figure()\n",
    "plt.title(\"Dipole moment over time\")\n",
    "plt.plot(ts_plot, dip_x)\n",
    "plt.xlabel(\"time$\\,$[arb.$\\,$u.]\")\n",
    "plt.ylabel(\"dipole moment$\\,$[arb.$\\,$u.]\")\n",
    "plt.grid()\n",
    "plt.show()\n",
    "\n",
    "# acceleration of the dipole moment and Fourier transform\n",
    "acc_dip_x = np.diff(dip_x, 2)\n",
    "fft_acc_dip_x = np.abs(np.fft.fft(acc_dip_x))**2\n",
    "freq = np.fft.fftfreq(nt_save - 2, d=dt * ndt_save)\n",
    "sort_freq = np.argsort(freq)\n",
    "omegas = 2 * np.pi * freq[sort_freq]\n",
    "fft_acc_dip_x = fft_acc_dip_x[sort_freq]\n",
    "\n",
    "# plot of the high harmonic spectrum\n",
    "fig, ax = plt.subplots()\n",
    "plt.title(\"High harmonic spectrum\")\n",
    "plt.plot(np.real(omegas / omega), np.log(fft_acc_dip_x))\n",
    "ax.set_xlabel(\"freq$\\,$[$\\omega$]\")\n",
    "ax.set_ylabel(\"intensity$\\,$[arb.$\\,$u.]\")\n",
    "plt.xlim(0, 10)\n",
    "#plt.ylim(-11, -3)\n",
    "minor_ticks = np.arange(1, 9, 2)\n",
    "ax.set_xticks(minor_ticks, minor=True)\n",
    "plt.grid(which = 'minor', linewidth = 1.5, axis = 'x')\n",
    "plt.show()"
   ]
  },
  {
   "cell_type": "markdown",
   "metadata": {},
   "source": [
    "Wir können auch den klassischen Cutoff berechnen, ab dem die HHG-Intensität abnehmen sollte. Sie ist gegeben durch $I_{\\text{p}} + 3.17 U_{\\text{p}}$. Dabei ist $I_{\\text{p}}$ die Ionisationsenergie (hier die Differenz des Grundzustands zur 0-Energie) und $U_{\\text{p}}$ die ponderomotive Energie des elektrischen Feldes."
   ]
  },
  {
   "cell_type": "code",
   "execution_count": 8,
   "metadata": {},
   "outputs": [
    {
     "data": {
      "text/plain": [
       "2.971168314900455"
      ]
     },
     "execution_count": 8,
     "metadata": {},
     "output_type": "execute_result"
    }
   ],
   "source": [
    "Up = E_0**2 / (4 * omega**2)\n",
    "Ip = -evals[0]\n",
    "(3.17 * Up + Ip) / omega"
   ]
  },
  {
   "cell_type": "markdown",
   "metadata": {},
   "source": [
    "Wenn wir also nun solch ein Setup hätten, könnte man nach einer Beleuchtung einer Atomwolke mit einem linear polarisierten Laser mit einem Photodetektor die hohen Harmonischen der Laserfrequenz messen."
   ]
  },
  {
   "cell_type": "markdown",
   "metadata": {},
   "source": []
  }
 ],
 "metadata": {
  "interpreter": {
   "hash": "8571e7f3e92f6e490cddd84ef78d4e4e0b96a1f565959148b10a39523fba88f5"
  },
  "kernelspec": {
   "display_name": "Python 3.9.7 ('py39')",
   "language": "python",
   "name": "python3"
  },
  "language_info": {
   "codemirror_mode": {
    "name": "ipython",
    "version": 3
   },
   "file_extension": ".py",
   "mimetype": "text/x-python",
   "name": "python",
   "nbconvert_exporter": "python",
   "pygments_lexer": "ipython3",
   "version": "3.7.4"
  },
  "orig_nbformat": 4
 },
 "nbformat": 4,
 "nbformat_minor": 2
}
